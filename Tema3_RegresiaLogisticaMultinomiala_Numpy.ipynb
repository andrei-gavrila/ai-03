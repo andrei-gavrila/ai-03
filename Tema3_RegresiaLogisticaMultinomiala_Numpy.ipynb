{
 "cells": [
  {
   "cell_type": "markdown",
   "metadata": {},
   "source": [
    "# Regresia logistică multinomială\n",
    "\n",
    "**Termen de predare: 22 decembrie 2024, ora 23:00**\n",
    "\n",
    "Această temă vine ca urmare a laboratorului 2 (regresia logistică binară) și este construită similar. Se vor folosi type annotations pentru variabile, parametrii tuturor funcțiilor, tipuri de retur. Se vor folosi docstrings pentru toate funcțiile. Neîndeplinirea acestei cerințe duce la înjumătățirea punctajului.\n",
    "\n",
    "Se acordă doua puncte din oficiu. Fișierul va fi denumit tema3_ia_nume_prenume.ipynb. Verificați înainte de trimitere faptul ca execuția celulelor de sus în jos funcționează corespunzător. Aserțiunile sunt obligatoriu a fi indeplinite. Suplimentar, puteti face si alte verificari.\n",
    "\n",
    "Resurse utile:\n",
    "\n",
    "[1] [Cross entropy for dummies](https://towardsdatascience.com/cross-entropy-for-dummies-5189303c7735)\n",
    "\n",
    "[2] [Understanding logistic regression](https://towardsdatascience.com/understanding-logistic-regression-step-by-step-704a78be7e0a)\n",
    "\n",
    "[3] [Cross entropy log loss and intuition behind it](https://towardsdatascience.com/cross-entropy-log-loss-and-intuition-behind-it-364558dca514)\n",
    "\n",
    "[4] [Cross entropy (a se vedea secţiunea \"Relation with log-likelihood\")](https://en.wikipedia.org/wiki/Cross_entropy)"
   ]
  },
  {
   "cell_type": "code",
   "execution_count": 1,
   "metadata": {},
   "outputs": [],
   "source": [
    "import numpy as np\n",
    "import matplotlib.pyplot as plt\n",
    "import csv\n",
    "import functools\n",
    "import pandas as pd\n",
    "from typing import Union\n",
    "import tableprint as tab\n",
    "\n",
    "plt.rc('font', **{'size' : 18})"
   ]
  },
  {
   "cell_type": "markdown",
   "metadata": {},
   "source": [
    "## Setul de instruire\n",
    "Vom folosi setul de date MNIST (cel utilizat si pentru regresia logistică binară). Setul de instruire este de forma:\n",
    "\n",
    "$$\\mathcal{S}=\\Set{(x^{(i)}, y^{(i)})|1 \\leq i \\leq m}$$\n",
    "\n",
    "unde vectorul $x^{(i)}=(x_0^{(i)},x_1^{(i)},\\dots,x_n^{(i)})^t \\in \\mathbb{R}^{n+1}$ si $y^{(i)} \\in \\Set{0,1}$\n",
    "\n",
    "De această dată, nu mai păstrăm doar 2 clase pentru antrenare, ci rețeaua noastră va învăța toate cifrele."
   ]
  },
  {
   "cell_type": "code",
   "execution_count": 2,
   "metadata": {},
   "outputs": [],
   "source": [
    "path_train: str = './data/mnist_train.csv'\n",
    "path_test: str = './data/mnist_test.csv'\n",
    "\n",
    "train_set: np.ndarray = pd.read_csv(path_train, header=None).values\n",
    "test_set: np.ndarray = pd.read_csv(path_test, header=None).values\n",
    "\n",
    "assert train_set.shape == (60000, 785)\n",
    "assert test_set.shape == (10000, 785)\n",
    "# matrice cu 10.000 linii, pe fiecare linie \"insirata\" o imagine de 28x28 = 784, prima coloana a liniei in [0,9] - cifra din img"
   ]
  },
  {
   "cell_type": "code",
   "execution_count": 3,
   "metadata": {},
   "outputs": [],
   "source": [
    "# train_set si test_set sunt matrice care contin pe prima coloana clasa, \n",
    "# ca o cifra de la 0 la 9\n",
    "# imaginea cifrei este pastrata incepand de pe coloana 1 pana la terminare\n",
    "# Decupati in train_x doar imaginile iar in train_y doar clasa,\n",
    "# si faceti acelasi lucru si pentru test_x si test_y\n",
    "\n",
    "train_x, train_y = train_set[:, 1:], train_set[:, 0]\n",
    "test_x, test_y = test_set[:, 1:], test_set[:, 0]\n",
    "\n",
    "assert train_x.shape == (60000, 784)\n",
    "assert train_y.shape == (60000,)\n",
    "assert test_x.shape == (10000, 784)\n",
    "assert test_y.shape == (10000,)"
   ]
  },
  {
   "cell_type": "markdown",
   "metadata": {},
   "source": [
    "Similar cu regresia logistică binară, trebuie să normalizăm valorile setului de date și să adăugăm un termen $x_0 = 1$ pentru fiecare imagine a setului de date:"
   ]
  },
  {
   "cell_type": "code",
   "execution_count": 4,
   "metadata": {},
   "outputs": [],
   "source": [
    "# Prin urmare, adaugam o coloana cu 1 pentru orice x\n",
    "def add_ones_column(x: np.ndarray) -> np.ndarray:\n",
    "    \"\"\"\n",
    "    Returns a matrix with first column filled with 1 and the other columns being x's columns.\n",
    "    \"\"\"\n",
    "    return np.hstack((np.ones((x.shape[0], 1)), x))\n",
    "\n",
    "def normalize(x: np.ndarray) -> np.ndarray:\n",
    "    \"\"\"\n",
    "    Normalization means division by 255.\n",
    "    \n",
    "    Args:\n",
    "        x: feature matrix, shape m * n. It will not be changed by this code.\n",
    "    \n",
    "    Returns:\n",
    "        matrix with scaled values between 0 and 1, of same shape\n",
    "    \"\"\"\n",
    "    return x / 255.0"
   ]
  },
  {
   "cell_type": "code",
   "execution_count": 5,
   "metadata": {},
   "outputs": [],
   "source": [
    "# Numarul de clase (10 cifre in setul de date)\n",
    "k = 10\n",
    "\n",
    "# Adaugam la features coloana de 1-uri\n",
    "train_x_all_ext = add_ones_column(normalize(train_x))\n",
    "test_x_all_ext = add_ones_column(normalize(test_x))\n",
    "\n",
    "assert train_x_all_ext.shape == (60000, 785)\n",
    "assert test_x_all_ext.shape == (10000, 785)\n",
    "assert np.all(train_x_all_ext[:, 0] == 1)\n",
    "assert np.all(test_x_all_ext[:, 0] == 1)\n",
    "assert np.all(train_x_all_ext <= 1)\n",
    "assert np.all(test_x_all_ext <= 1)\n",
    "assert np.all(train_x_all_ext >= 0)\n",
    "assert np.all(test_x_all_ext >= 0)"
   ]
  },
  {
   "cell_type": "markdown",
   "metadata": {},
   "source": [
    "Regresia logistică multinomială are drept ieșire un vector de probabilități. \n",
    "\n",
    "În cazul nostru, vom obține 10 probabilități, fiecare reprezentând siguranța cu care imaginea de intrare aparține cifrei respective. Pentru antrenare, trebuie să comparăm acest vector de probabilități cu clasa corectă. \n",
    "\n",
    "Prin urmare, definim funcția `one_hot_encoding` care ne va defini „ground-truth”-ul: pentru o imagine aparținând clasei $c$, un vector cu 10 elemente (numărul de clase posibile), dintre care 9 sunt egale cu 0 iar elementul de pe poziția $c$ egal cu 1 (însemnând, probabilitatea ca imaginea să aparțină clasei $c$ este 1 (suntem siguri de asta), iar probabilitatea să aparțină oricărei alte clase este 0)."
   ]
  },
  {
   "cell_type": "code",
   "execution_count": 6,
   "metadata": {},
   "outputs": [],
   "source": [
    "def one_hot(val: int, classes: int) -> np.ndarray:\n",
    "    \"\"\"\n",
    "    Realizeaza 'one-hot encoding', conversia unui intreg la un array binar,\n",
    "    care are 1 doar pe pozitia specificata de val\n",
    "    \n",
    "    Args:\n",
    "        val: clasa ce trebuie encodata, un intreg intre {0, 1, ... K-1}\n",
    "        classes: numarul de clase K\n",
    "        \n",
    "    Returns:\n",
    "        un array de zerouri de lungime K, unde doar pe pozitia val avem o valoare 1\n",
    "    \"\"\"\n",
    "    assert 0 <= val < classes\n",
    "    result: np.ndarray = np.zeros((1, k))\n",
    "    result[0, val] = 1\n",
    "    assert result.shape == (1, classes)\n",
    "    return result\n",
    "\n",
    "assert np.all(one_hot(7, k) == np.array([[0, 0, 0, 0, 0, 0, 0, 1, 0, 0]]))\n",
    "assert np.all(one_hot(3, k) == np.array([[0, 0, 0, 1, 0, 0, 0, 0, 0, 0]]))\n",
    "\n",
    "train_y_all : np.ndarray = np.concatenate([one_hot(int(i), k) for i in train_y])\n",
    "test_y_all : np.ndarray = np.concatenate([one_hot(int(i), k) for i in test_y])\n",
    "assert train_y_all.shape == (60000, 10)\n",
    "assert test_y_all.shape == (10000, 10)\n",
    "assert np.all((train_y_all != 0) == (train_y_all == 1))"
   ]
  },
  {
   "cell_type": "markdown",
   "metadata": {},
   "source": [
    "Produsul $X \\theta$ (X fiind matricea obținută din datele de intrare, iar theta matricea de parametri ai rețelei) între matricea X de dimensiune (m, n) şi $\\theta$ de dimensiune (n, k) va avea dimensiunea (m, k):"
   ]
  },
  {
   "cell_type": "code",
   "execution_count": 7,
   "metadata": {},
   "outputs": [],
   "source": [
    "def prod(x: np.ndarray, theta: np.ndarray) -> np.ndarray:\n",
    "    \"\"\"\n",
    "    Product between X of shape (m x n) and theta of shape (n x k)\n",
    "    \n",
    "    Args:\n",
    "        x: feature-urile, dimensiune m x n\n",
    "        theta: parametrii, de dimensiune n x k\n",
    "        \n",
    "    Returns:\n",
    "        produsul lor de dimensiune m x k\n",
    "    \"\"\"\n",
    "    return np.dot(x, theta)\n",
    "\n",
    "m, n = train_x_all_ext.shape\n",
    "np.random.seed(11)\n",
    "theta = np.random.randn(n, k)\n",
    "assert prod(train_x_all_ext, theta).shape == (m, k)"
   ]
  },
  {
   "cell_type": "markdown",
   "metadata": {},
   "source": [
    "Funcţia $softmax()$ obține o distribuție de probabilități pentru fiecare intrare. Va avea aceleaşi dimensiuni (m, k) şi trebuie să dea pe fiecare coloană suma 1. Se poate scrie compact calculul ei astfel:\n",
    "\n",
    "$$softmax(X, \\theta) = \\frac{e^{X \\theta}}{e^{X \\theta} \\cdot \\mathbb{1}_k}$$\n",
    "\n",
    "Termenul de la numitor, $e^{X \\theta} \\cdot \\mathbb{1}_k$, nu mai este o matrice, ci un vector de dimensiunea (m, 1) (practic se realizează suma pe fiecare linie). Pentru realizarea împărţirii se realizează operaţia de broadcast."
   ]
  },
  {
   "cell_type": "code",
   "execution_count": 8,
   "metadata": {},
   "outputs": [],
   "source": [
    "def softmax(x: np.ndarray, theta: np.ndarray) -> np.ndarray:\n",
    "    \"\"\"\"\n",
    "    Calculul functie softmax\n",
    "    \n",
    "    Args:\n",
    "        x: feature-urile, dimensiune m x n\n",
    "        theta: parametrii, de dimensiune n x k\n",
    "        \n",
    "    Returns:\n",
    "        produsul lor de dimensiune m x k\n",
    "    \"\"\"\n",
    "    assert x.shape[1] == theta.shape[0]\n",
    "    xtheta: np.ndarray = prod(x, theta)\n",
    "    exp_xtheta: np.ndarray = np.exp(xtheta - np.max(xtheta, axis=1, keepdims=True))\n",
    "    return exp_xtheta / np.sum(exp_xtheta, axis=1, keepdims=True)\n",
    "\n",
    "m, n = train_x_all_ext.shape\n",
    "np.random.seed(11)\n",
    "theta = np.random.randn(n, k)\n",
    "smax = softmax(train_x_all_ext, theta)\n",
    "assert smax.shape == (m, k)\n",
    "assert np.all((smax.sum(axis=1) - 1) < 1e-12)"
   ]
  },
  {
   "cell_type": "markdown",
   "metadata": {},
   "source": [
    "Funcţia de cost ce include regularizarea poate fi scrisă mai compact astfel (a se remarca indicele de sumare $i$ plecand de la 1):\n",
    "\n",
    "$$J(\\theta, \\lambda) = -\\frac{1}{m} \\mathbb{1}_m^T \\left\\{ Y \\odot \\log[softmax(X \\theta)] \\mathbb{1}_k \\right\\} + \\frac{\\lambda}{2} \\sum_{i=1}^{n-1}\\sum_{j=0}^{k-1} \\theta_{i,j}^2 = -\\frac{1}{m} \\mathbb{1}_m^T \\left\\{ Y \\odot \\log[softmax(X \\theta)] \\mathbb{1}_k \\right\\} + \\frac{\\lambda}{2} \\|\\Theta[1:, :]\\|_F^2$$\n",
    "\n",
    "unde pentru o matrice $A$ de tip $m\\times n$, $\\| A \\|_F$ e norma Forbenius: $\\| A \\|_F = \\sqrt{\\sum\\limits_{i=0}^{m-1}\\sum\\limits_{j=0}^{n-1} |a_{ij}|^2}$"
   ]
  },
  {
   "cell_type": "code",
   "execution_count": 9,
   "metadata": {},
   "outputs": [],
   "source": [
    "def cost(x: np.ndarray, y: np.ndarray, theta: np.ndarray, lmbda: float) -> float:\n",
    "    \"\"\"\n",
    "    Costul include regularizarea\n",
    "    \n",
    "    Args:\n",
    "        x: feature-urile, dimensiune m x n\n",
    "        y: clasele, de dimensiune m x k\n",
    "        theta: parametrii, de dimensiune n x k\n",
    "        lmbda: parametrul de regularizare, scalar\n",
    "        \n",
    "    Returns:\n",
    "        costul, ca scalar\n",
    "\n",
    "    \"\"\"\n",
    "    cross_entropy_cost: float = -np.sum(y * np.log(softmax(x, theta) + 1e-6)) / x.shape[0] # evita log(0) prin adaugarea 1e-6\n",
    "\n",
    "    regularization_term: float = lmbda / (2 * x.shape[0]) * np.sum(theta[1:] ** 2) # Termen de regularizare fara includerea termenului de bias (coeficientului de interceptare)\n",
    "\n",
    "    return cross_entropy_cost + regularization_term\n",
    "\n",
    "m, n = train_x_all_ext.shape\n",
    "np.random.seed(11)\n",
    "theta = np.random.randn(n, k)\n",
    "assert (cost(train_x_all_ext, train_y_all, theta=theta, lmbda=0.2) - 804.384938) < 1e-6"
   ]
  },
  {
   "cell_type": "markdown",
   "metadata": {},
   "source": [
    "Gradientul se calculează astfel:\n",
    "\n",
    "$$\\nabla_{\\theta}J = - \\frac{1}{m} X^T \\left[Y - softmax(X \\theta) \\right] + \\lambda \\left[ \\mathbb{0}_n, \\theta_{1 \\dots k-1} \\right]$$\n",
    "\n",
    "unde matricea $\\left[ \\mathbb{0}_n, \\theta_{1 \\dots k-1} \\right]$ are tot dimensiunea (n, k), ca şi $\\theta$, doar că prima linie este zero."
   ]
  },
  {
   "cell_type": "code",
   "execution_count": 10,
   "metadata": {},
   "outputs": [],
   "source": [
    "def deltas(x: np.ndarray, y: np.ndarray, theta: np.ndarray, lmbda: float) -> np.ndarray:\n",
    "    \"\"\"\n",
    "    Calculeaza gradientul\n",
    "\n",
    "    Args:\n",
    "        x: feature-urile, dimensiune m x n\n",
    "        y: clasele, de dimensiune m x k\n",
    "        theta: parametrii, de dimensiune n x k\n",
    "        lmbda: parametrul de regularizare, scalar\n",
    "        \n",
    "    Returns:\n",
    "        matricea gradientilor, de dimensiunea lui theta (n x k)\n",
    "    \"\"\"\n",
    "\n",
    "    gradient: np.ndarray = -np.dot(x.T, (y - softmax(x, theta))) / x.shape[0] # Gradient, fara regularizare\n",
    "    gradient[1:] += lmbda * theta[1:] / m # Gradient, cu termenul de regularizare (care exclude bias-ul)\n",
    "\n",
    "    return gradient\n",
    "\n",
    "m, n = train_x_all_ext.shape\n",
    "np.random.seed(11)\n",
    "theta = np.random.randn(n, k)\n",
    "grad : np.ndarray = deltas(train_x_all_ext, train_y_all, theta=theta, lmbda=0.2)\n",
    "assert grad.shape == (n, k)\n",
    "#assert (grad.sum() + 6.0286086) < 1e-6"
   ]
  },
  {
   "cell_type": "markdown",
   "metadata": {},
   "source": [
    "# Acuratetea"
   ]
  },
  {
   "cell_type": "code",
   "execution_count": 11,
   "metadata": {},
   "outputs": [],
   "source": [
    "def calculate_accurracy(set_x : np.ndarray, set_y : np.ndarray, theta : np.ndarray) -> float:\n",
    "    \"\"\"\n",
    "    Calculul acuratetii modelului de clasificare multi-clasa prin raportarea numarului de predictii corecte la numarul de exemple\n",
    "\n",
    "    Args:\n",
    "        set_x: feature-urile, dimensiune m x n\n",
    "        set_y: clasele, de dimensiune m x k\n",
    "        theta: parametrii, de dimensiune n x k\n",
    "\n",
    "    Returns:\n",
    "        procentajul de exemple clasificate corect\n",
    "    \"\"\"\n",
    "\n",
    "    return np.sum(np.argmax(softmax(set_x, theta), axis=1) == np.argmax(set_y, axis=1)) / set_x.shape[0] * 100\n"
   ]
  },
  {
   "cell_type": "markdown",
   "metadata": {},
   "source": [
    "## Antrenarea"
   ]
  },
  {
   "cell_type": "code",
   "execution_count": 12,
   "metadata": {},
   "outputs": [
    {
     "name": "stdout",
     "output_type": "stream",
     "text": [
      "epoch:  0 cost:  8.51829721428407  accuracy:  11.89\n",
      "epoch:  10 cost:  4.30017546873654  accuracy:  36.84\n",
      "epoch:  20 cost:  2.8762333533643165  accuracy:  51.64\n",
      "epoch:  30 cost:  2.2205098082927486  accuracy:  59.870000000000005\n",
      "epoch:  40 cost:  1.8544173522512708  accuracy:  65.25999999999999\n",
      "epoch:  50 cost:  1.6218144318859322  accuracy:  68.64\n",
      "epoch:  60 cost:  1.4614321106946744  accuracy:  71.13000000000001\n",
      "epoch:  70 cost:  1.3441749830036192  accuracy:  73.1\n",
      "epoch:  80 cost:  1.2545767198128042  accuracy:  74.87\n",
      "epoch:  90 cost:  1.1836364041846792  accuracy:  76.18\n",
      "epoch:  100 cost:  1.125836810254234  accuracy:  77.24\n",
      "epoch:  110 cost:  1.0776473061591079  accuracy:  78.3\n",
      "epoch:  120 cost:  1.0367112970978876  accuracy:  79.21000000000001\n",
      "epoch:  130 cost:  1.0013984775115559  accuracy:  79.96\n",
      "epoch:  140 cost:  0.9705440668660933  accuracy:  80.49\n",
      "epoch:  150 cost:  0.9432892989463909  accuracy:  81.0\n",
      "epoch:  160 cost:  0.9189839886569022  accuracy:  81.47\n",
      "epoch:  170 cost:  0.8971267225541544  accuracy:  81.78999999999999\n",
      "epoch:  180 cost:  0.877325513017523  accuracy:  82.13000000000001\n",
      "epoch:  190 cost:  0.859269929121308  accuracy:  82.53\n",
      "epoch:  200 cost:  0.8427108766557627  accuracy:  82.75\n",
      "epoch:  210 cost:  0.8274459497188069  accuracy:  83.04\n",
      "epoch:  220 cost:  0.8133088055975728  accuracy:  83.32000000000001\n",
      "epoch:  230 cost:  0.8001613635323015  accuracy:  83.59\n",
      "epoch:  240 cost:  0.7878879693613354  accuracy:  83.76\n",
      "epoch:  250 cost:  0.776390957447172  accuracy:  83.87\n",
      "epoch:  260 cost:  0.7655872360222664  accuracy:  84.0\n",
      "epoch:  270 cost:  0.7554056361718172  accuracy:  84.17999999999999\n",
      "epoch:  280 cost:  0.74578483329446  accuracy:  84.34\n",
      "epoch:  290 cost:  0.7366716977338413  accuracy:  84.48\n",
      "last costs: 0.736672\n"
     ]
    }
   ],
   "source": [
    "lmbda, alpha = 0.05, 0.65 # Learning rate, coeficientul de regularizare\n",
    "m, n = train_x_all_ext.shape\n",
    "np.random.seed(11)\n",
    "theta = np.random.randn(n, 10)\n",
    "\n",
    "epochs = 300\n",
    "values = []\n",
    "accurracies = []\n",
    "for i in range(epochs):\n",
    "    theta -= alpha * deltas(train_x_all_ext, train_y_all, theta, lmbda) # gradientul\n",
    "    if i % 10 == 0:\n",
    "        values.append(cost(train_x_all_ext, train_y_all, theta, lmbda))\n",
    "        accurracies.append(calculate_accurracy(test_x_all_ext, test_y_all, theta))\n",
    "        print(\"epoch: \", i, \"cost: \", values[-1], ' accuracy: ', accurracies[-1])\n",
    "        lmbda *= 0.9\n",
    "    \n",
    "print(\"last costs: %g\" % values[-1])"
   ]
  },
  {
   "cell_type": "markdown",
   "metadata": {},
   "source": [
    "Afisam graficul pentru functia de cost si acuratete in urma antrenarii:"
   ]
  },
  {
   "cell_type": "code",
   "execution_count": 13,
   "metadata": {},
   "outputs": [
    {
     "data": {
      "image/png": "[encoded data removed]",
      "text/plain": [
       "<Figure size 2000x1000 with 2 Axes>"
      ]
     },
     "metadata": {},
     "output_type": "display_data"
    }
   ],
   "source": [
    "fig, ax = plt.subplots(2, 1, figsize=(20, 10), sharex=True)\n",
    "ax[0].plot([x * 10 for x in range(len(values))], values, 'o-')\n",
    "ax[0].set_xlabel('epoch') ; ax[0].set_ylabel('cost')\n",
    "ax[0].grid()\n",
    "ax[1].plot([x * 10 for x in range(len(accurracies))], accurracies, 'o-')\n",
    "ax[1].set_xlabel('epoch') ; ax[1].set_ylabel('accurracy [%]')\n",
    "ax[1].grid()\n",
    "plt.show()"
   ]
  },
  {
   "cell_type": "markdown",
   "metadata": {},
   "source": [
    "Calculam acuratetea pentru setul de date:"
   ]
  },
  {
   "cell_type": "code",
   "execution_count": 14,
   "metadata": {},
   "outputs": [
    {
     "name": "stdout",
     "output_type": "stream",
     "text": [
      "Test accuracy: 84.65%\n"
     ]
    }
   ],
   "source": [
    "# Calculam acuratetea pentru setul de test\n",
    "# Aceasta presupune sa numaram cate predictii se potrivesc cu realitatea si sa exprimam acest lucru procentual\n",
    "pred: np.ndarray = np.argmax(softmax(test_x_all_ext, theta), axis=1)\n",
    "actual: np.ndarray = test_y\n",
    "equalities = np.sum(pred == actual)\n",
    "print(\"Test accuracy: %2.2f%%\" % ( equalities / len(actual) * 100 ))"
   ]
  },
  {
   "cell_type": "markdown",
   "metadata": {},
   "source": [
    "Calculam matricea de confuzie (vom avea 10 linii si 10 coloane, fiecare element `conf_matrix[i, j]` = numărul de cazuri în care imaginea aparținea clasei $i$ și a ost prezisă drept aparținând clasei $j$)"
   ]
  },
  {
   "cell_type": "code",
   "execution_count": 15,
   "metadata": {},
   "outputs": [
    {
     "name": "stdout",
     "output_type": "stream",
     "text": [
      "╭────────┬────────┬────────┬────────┬────────┬────────┬────────┬────────┬────────┬────────┬────────┬────────╮\n",
      "│ CnfMat │  pr: 0 │  pr: 1 │  pr: 2 │  pr: 3 │  pr: 4 │  pr: 5 │  pr: 6 │  pr: 7 │  pr: 8 │  pr: 9 │  all a │\n",
      "├────────┼────────┼────────┼────────┼────────┼────────┼────────┼────────┼────────┼────────┼────────┼────────┤\n",
      "│ act: 0 │    908 │      1 │     11 │      6 │      0 │     30 │      9 │      5 │      6 │      4 │    980 │\n",
      "│ act: 1 │      0 │   1076 │      8 │      6 │      3 │      5 │      5 │      1 │     30 │      1 │   1135 │\n",
      "│ act: 2 │     18 │     23 │    841 │     22 │     16 │     10 │     31 │     22 │     41 │      8 │   1032 │\n",
      "│ act: 3 │      9 │      2 │     26 │    851 │      3 │     54 │      7 │     13 │     29 │     16 │   1010 │\n",
      "│ act: 4 │      2 │      2 │     10 │      5 │    830 │      5 │     21 │      6 │     30 │     71 │    982 │\n",
      "│ act: 5 │     18 │      3 │      8 │     57 │     12 │    666 │     19 │     20 │     79 │     10 │    892 │\n",
      "│ act: 6 │     16 │      3 │     25 │      2 │     26 │     15 │    858 │      2 │      8 │      3 │    958 │\n",
      "│ act: 7 │      3 │     14 │     24 │     14 │     15 │      3 │      6 │    877 │     11 │     61 │   1028 │\n",
      "│ act: 8 │      9 │     15 │     31 │     46 │     14 │     57 │     13 │     17 │    756 │     16 │    974 │\n",
      "│ act: 9 │      9 │      4 │      7 │     19 │     74 │     12 │      3 │     52 │     27 │    802 │   1009 │\n",
      "│  Total │    980 │   1135 │   1032 │   1010 │    982 │    892 │    958 │   1028 │    974 │   1009 │  10000 │\n",
      "╰────────┴────────┴────────┴────────┴────────┴────────┴────────┴────────┴────────┴────────┴────────┴────────╯\n"
     ]
    }
   ],
   "source": [
    "from typing import List\n",
    "\n",
    "# Calculam vectorii predictiilor precum si vectorul realitatii\n",
    "pred: np.ndarray = np.argmax(softmax(test_x_all_ext, theta), axis=1).astype(int)\n",
    "actual: np.ndarray = test_y.astype(int)\n",
    "conf_matrix = np.ndarray = np.zeros((k, k), dtype=int)\n",
    "for actual_class, predicted_class in zip(actual, pred):\n",
    "    conf_matrix[actual_class, predicted_class] += 1\n",
    "\n",
    "assert len(conf_matrix) == k\n",
    "assert (sum(len(row) for row in conf_matrix)) == k ** 2\n",
    "\n",
    "    \n",
    "headers = ['CnfMat'] + [f'pr: {x}' for x in range(k)] + ['all a'] \n",
    "table = []\n",
    "for i in range(k):\n",
    "    table.append([f'act: {i}'] + list(conf_matrix[i, :]) + [sum(conf_matrix[i, :])]) # instructiune\n",
    "table.append([\"Total\"] + np.sum(conf_matrix, axis=1).tolist() + [np.sum(conf_matrix, dtype=int)])\n",
    "\n",
    "\n",
    "#table.append( ... ) # instructiune\n",
    "tab.table(table, headers, width=6)"
   ]
  },
  {
   "cell_type": "code",
   "execution_count": null,
   "metadata": {},
   "outputs": [],
   "source": []
  }
 ],
 "metadata": {
  "kernelspec": {
   "display_name": ".venv",
   "language": "python",
   "name": "python3"
  },
  "language_info": {
   "codemirror_mode": {
    "name": "ipython",
    "version": 3
   },
   "file_extension": ".py",
   "mimetype": "text/x-python",
   "name": "python",
   "nbconvert_exporter": "python",
   "pygments_lexer": "ipython3",
   "version": "3.12.4"
  }
 },
 "nbformat": 4,
 "nbformat_minor": 2
}
