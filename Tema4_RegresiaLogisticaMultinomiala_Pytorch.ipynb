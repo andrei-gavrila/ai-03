{
 "cells": [
  {
   "cell_type": "markdown",
   "id": "92a96f29",
   "metadata": {},
   "source": [
    "# Tema 4: model de regresie logistica multinomiala antrenat cu Pytorch"
   ]
  },
  {
   "cell_type": "markdown",
   "id": "c4977baf",
   "metadata": {},
   "source": [
    "Implementati un model de regresie logistica multinomiala pentru clasificarea celor 10 tipuri de cifre din setul MNIST.\n",
    "\n",
    "Modificarile pe care trebuie sa le aveti in vedere (fata de regresia logistica binara) sunt:\n",
    "1. in definirea lui Dataset nu se mai face filtrare dupa clasele pozitive si negative; se lasa toate datele\n",
    "1. In definirea clasei modelului, stratul `self.fully_connected` trebuie sa fie cu numarul de iesiri egal cu numarul de clase\n",
    "1. La predictie, pentru fiecare vector de intrare (cifra reprezentata ca vector de 784 de valori) modelul produce un vector de 10 probabilitati. Clasa se decide ca indicele pe care probabilitatea este maxima. Aceasta afecteaza implementarea functiei de testare\n",
    "1. Se reccomanda ca in functia `forward` a modelului sa nu se mai aplice si functia softmax, ci sa se returneze direct logitii (valoarea producsa de aplicarea stratului liniar, adica inmultirea dintre matricea de ponderi si intrare)\n",
    "1. Functia de eroare `loss_fn` este `torch.nn.CrossEntropyLoss`. Aceasta preia logitii produsi de model (punctul de mai sus)\n",
    "\n",
    "Creati o matrice de confuzie pentru clase; puteti folosi [scikit learn](https://scikit-learn.org/stable/modules/generated/sklearn.metrics.confusion_matrix.html)"
   ]
  },
  {
   "cell_type": "markdown",
   "id": "e6624dde",
   "metadata": {},
   "source": [
    "Predarea acestei aplicatii se pana in 22 decembrie ora 24, in cadrul temei 4 de pe platforma. Modul de predare si de rpezentare aeste la fel ca pentru temele precedente."
   ]
  },
  {
   "cell_type": "code",
   "execution_count": 38,
   "id": "00995a38",
   "metadata": {},
   "outputs": [
    {
     "name": "stdout",
     "output_type": "stream",
     "text": [
      "Using PyTorch version: 2.5.1+cu124  Device: cpu\n"
     ]
    }
   ],
   "source": [
    "import torch\n",
    "import torch.nn as nn\n",
    "from torchsummary import summary\n",
    "from typing import List\n",
    "import numpy as np\n",
    "import matplotlib.pyplot as plt\n",
    "\n",
    "if torch.cuda.is_available():\n",
    "    device = torch.device('cuda')\n",
    "else:\n",
    "    device = torch.device('cpu')\n",
    "    \n",
    "print('Using PyTorch version:', torch.__version__, ' Device:', device)"
   ]
  },
  {
   "attachments": {},
   "cell_type": "markdown",
   "id": "9b4c505a",
   "metadata": {},
   "source": [
    "## Dataset"
   ]
  },
  {
   "cell_type": "code",
   "execution_count": 39,
   "id": "c00aa228",
   "metadata": {},
   "outputs": [],
   "source": [
    "from torch.utils.data import Dataset\n",
    "from torch.utils.data import DataLoader\n",
    "import pandas as pd\n",
    "import os\n",
    "from typing import Tuple"
   ]
  },
  {
   "cell_type": "code",
   "execution_count": 40,
   "id": "435ff478",
   "metadata": {},
   "outputs": [],
   "source": [
    "class MNISTDataset(Dataset):\n",
    "    \n",
    "    def __init__(self, path_csv: str):\n",
    "        \"\"\"\n",
    "        Initializes dataset, using csv at given path.\n",
    "        :param path_csv: path to the csv file containing train/test dataset\n",
    "        \"\"\"\n",
    "        super(MNISTDataset, self).__init__()\n",
    "        assert os.path.exists(path_csv) and os.path.isfile(path_csv), f'Calea {path_csv} nu indica spre un fisier'\n",
    "        self.path_csv : str = path_csv\n",
    "        \n",
    "        _all_digits : np.ndarray = pd.read_csv(path_csv, header=None).values.astype(int)\n",
    "        _all_digits = _all_digits[~np.isnan(_all_digits).any(axis=1)]\n",
    "        # input values - x, labels - y \n",
    "        # convert numpy -> torch.Tensor\n",
    "        self.y = torch.LongTensor(_all_digits[:, 0])\n",
    "        self.x = torch.Tensor(_all_digits[:, 1:] / 255.0) # values 0-255 from input set x are scaled to 0-1\n",
    "\n",
    "    def __len__(self):\n",
    "        \"\"\"\n",
    "        Returns the length of the current dataset (num of elements)\n",
    "        :return: the length of the current dataset\n",
    "        \"\"\"\n",
    "        return len(self.y)\n",
    "    \n",
    "    def __getitem__(self, index: int) -> Tuple[torch.Tensor, torch.Tensor]:\n",
    "        \"\"\"\n",
    "        Returns tuple of (input tensor, expected output) on position :param index:\n",
    "        :param index: position to retreive the item from\n",
    "        :return: tuple of (input tensor - of 784 elements, class: 0-9)\n",
    "        \"\"\"\n",
    "        return self.x[index], self.y[index]"
   ]
  },
  {
   "cell_type": "code",
   "execution_count": 41,
   "id": "0563249d",
   "metadata": {},
   "outputs": [],
   "source": [
    "train_ds: MNISTDataset = MNISTDataset('./data/mnist_train.csv') # check path!\n",
    "test_ds: MNISTDataset = MNISTDataset('./data/mnist_test.csv') # check path!"
   ]
  },
  {
   "cell_type": "code",
   "execution_count": 42,
   "id": "073ef13d",
   "metadata": {},
   "outputs": [],
   "source": [
    "batch_size = 32\n",
    "train_loader = DataLoader(train_ds, batch_size=batch_size, shuffle=True)\n",
    "test_loader = DataLoader(test_ds, batch_size=batch_size)"
   ]
  },
  {
   "attachments": {},
   "cell_type": "markdown",
   "id": "5bfe108d",
   "metadata": {},
   "source": [
    "## Model"
   ]
  },
  {
   "cell_type": "code",
   "execution_count": 43,
   "id": "5692f5a6",
   "metadata": {},
   "outputs": [],
   "source": [
    "class MultinomialLogisticRegression(nn.Module):\n",
    "    def __init__(self, input_size : int = 784, nmb_classes : int = 10):\n",
    "        \"\"\"\n",
    "        Initializes MultinomialLogisticRegression.\n",
    "        :input_size: input vector size, for MNIST = 784\n",
    "        :nmb_classes: number of possible outputs; for MNIST -> 10 digits -> 10 classes\n",
    "        \"\"\"\n",
    "        super(MultinomialLogisticRegression, self).__init__()\n",
    "        # initialize \"theta\" (as a matrix of input_size x nmb_classes)\n",
    "        self.fully_connected = nn.Linear(input_size, nmb_classes, bias=True)\n",
    "\n",
    "    def forward(self, x):\n",
    "        \"\"\"\n",
    "        Given an input batch, returns predictions for x (y_hat) \n",
    "        :param x: Batch of input tensors (shape - (batch_size, input_size))\n",
    "        :returns: predicted output for input batch  (of shape (batch_size, nmb_classes))\n",
    "        \"\"\"\n",
    "        # calculates theta.T * x (extended)\n",
    "        output = self.fully_connected(x)\n",
    "\n",
    "        return output"
   ]
  },
  {
   "cell_type": "code",
   "execution_count": 44,
   "id": "7a62bdaf",
   "metadata": {},
   "outputs": [],
   "source": [
    "def evaluate(model : nn.Module, loader: DataLoader, device: torch.device, loss_fn = torch.nn.CrossEntropyLoss()) -> Tuple[float, float]:\n",
    "        \"\"\"\n",
    "        Evaluates the model against :param loader:\n",
    "        \n",
    "        :param loader: DataLoader to be evaluated on\n",
    "        :param device: Device used\n",
    "        :returns: Tuple[accuracy the model has given on the dataloader, the loss] \n",
    "        \"\"\"\n",
    "        total_inputs : int = 0\n",
    "        correctly_classified : torch.Tensor = 0\n",
    "        all_loss: float = 0\n",
    "        # switch model to eval mode\n",
    "        model.eval()\n",
    "        with torch.no_grad():\n",
    "            for input, expected_output in loader:\n",
    "                input, expected_output = input.to(device), expected_output.to(device)\n",
    "\n",
    "                # extract predictions for current minibatch;\n",
    "                y_hat : torch.Tensor = model(input)\n",
    "                # extract best scoring class for each input value in minibatch\n",
    "                predicted_class : torch.Tensor = torch.argmax(y_hat, dim=1)\n",
    "                # count correctly classified values\n",
    "                correctly_classified += (predicted_class == expected_output).sum().item()\n",
    "                total_inputs += expected_output.size(0)\n",
    "\n",
    "                # calculate loss for current minibatch\n",
    "                loss: float = loss_fn(y_hat, expected_output).item()\n",
    "                all_loss += loss * expected_output.size(0)\n",
    "        # switch model back to train mode\n",
    "        model.train()\n",
    "        return 100.0 * correctly_classified / total_inputs, all_loss / total_inputs # accuracy, loss\n"
   ]
  },
  {
   "cell_type": "code",
   "execution_count": 45,
   "id": "2f7f7eae",
   "metadata": {},
   "outputs": [
    {
     "name": "stdout",
     "output_type": "stream",
     "text": [
      "=================================================================\n",
      "Layer (type:depth-idx)                   Param #\n",
      "=================================================================\n",
      "├─Linear: 1-1                            7,850\n",
      "=================================================================\n",
      "Total params: 7,850\n",
      "Trainable params: 7,850\n",
      "Non-trainable params: 0\n",
      "=================================================================\n"
     ]
    },
    {
     "data": {
      "text/plain": [
       "=================================================================\n",
       "Layer (type:depth-idx)                   Param #\n",
       "=================================================================\n",
       "├─Linear: 1-1                            7,850\n",
       "=================================================================\n",
       "Total params: 7,850\n",
       "Trainable params: 7,850\n",
       "Non-trainable params: 0\n",
       "================================================================="
      ]
     },
     "execution_count": 45,
     "metadata": {},
     "output_type": "execute_result"
    }
   ],
   "source": [
    "model = MultinomialLogisticRegression()\n",
    "model.to(device)\n",
    "summary(model)"
   ]
  },
  {
   "cell_type": "code",
   "execution_count": 46,
   "id": "98817e9c",
   "metadata": {},
   "outputs": [
    {
     "name": "stdout",
     "output_type": "stream",
     "text": [
      "Initial accuracy: 11.76%\n",
      "Initial loss: 2.338029662322998\n"
     ]
    }
   ],
   "source": [
    "accuracy, loss = evaluate(model, test_loader, device)\n",
    "print(f'Initial accuracy: {accuracy}%')\n",
    "print(f'Initial loss: {loss}')"
   ]
  },
  {
   "attachments": {},
   "cell_type": "markdown",
   "id": "f4f2a2dd",
   "metadata": {},
   "source": [
    "## Training"
   ]
  },
  {
   "cell_type": "code",
   "execution_count": 47,
   "id": "d8b9000b",
   "metadata": {},
   "outputs": [],
   "source": [
    "optimizer = torch.optim.Optimizer = torch.optim.SGD(model.parameters(), lr=0.1) # Use torch SGD oprimizer\n",
    "loss_fn = torch.nn.CrossEntropyLoss()\n",
    "epochs : int = 30"
   ]
  },
  {
   "cell_type": "code",
   "execution_count": 48,
   "id": "7bb371ac",
   "metadata": {},
   "outputs": [
    {
     "name": "stdout",
     "output_type": "stream",
     "text": [
      "Epoca: 0/30: acuratete pe setul de testare = 11.7600%\n",
      "\n",
      "Epoca: 1/30: loss = 24796.6322232\n",
      "Epoca: 1/30: acuratete pe setul de testare = 91.1600%\n",
      "\n",
      "Epoca: 2/30: loss = 18778.2920425\n",
      "Epoca: 2/30: acuratete pe setul de testare = 91.8000%\n",
      "\n",
      "Epoca: 3/30: loss = 17805.4762508\n",
      "Epoca: 3/30: acuratete pe setul de testare = 91.6400%\n",
      "\n",
      "Epoca: 4/30: loss = 17269.7223445\n",
      "Epoca: 4/30: acuratete pe setul de testare = 92.1000%\n",
      "\n",
      "Epoca: 5/30: loss = 16902.1803041\n",
      "Epoca: 5/30: acuratete pe setul de testare = 91.9900%\n",
      "\n",
      "Epoca: 6/30: loss = 16654.1635242\n",
      "Epoca: 6/30: acuratete pe setul de testare = 92.2300%\n",
      "\n",
      "Epoca: 7/30: loss = 16458.0404837\n",
      "Epoca: 7/30: acuratete pe setul de testare = 92.2100%\n",
      "\n",
      "Epoca: 8/30: loss = 16279.0450740\n",
      "Epoca: 8/30: acuratete pe setul de testare = 92.3600%\n",
      "\n",
      "Epoca: 9/30: loss = 16149.2471908\n",
      "Epoca: 9/30: acuratete pe setul de testare = 92.3500%\n",
      "\n",
      "Epoca: 10/30: loss = 16015.4786531\n",
      "Epoca: 10/30: acuratete pe setul de testare = 92.4200%\n",
      "\n",
      "Epoca: 11/30: loss = 15901.1139065\n",
      "Epoca: 11/30: acuratete pe setul de testare = 92.2700%\n",
      "\n",
      "Epoca: 12/30: loss = 15821.4627659\n",
      "Epoca: 12/30: acuratete pe setul de testare = 92.3900%\n",
      "\n",
      "Epoca: 13/30: loss = 15739.6648954\n",
      "Epoca: 13/30: acuratete pe setul de testare = 92.5000%\n",
      "\n",
      "Epoca: 14/30: loss = 15687.1683835\n",
      "Epoca: 14/30: acuratete pe setul de testare = 92.4900%\n",
      "\n",
      "Epoca: 15/30: loss = 15606.6117613\n",
      "Epoca: 15/30: acuratete pe setul de testare = 92.2500%\n",
      "\n",
      "Epoca: 16/30: loss = 15517.3731267\n",
      "Epoca: 16/30: acuratete pe setul de testare = 92.4700%\n",
      "\n",
      "Epoca: 17/30: loss = 15489.3113353\n",
      "Epoca: 17/30: acuratete pe setul de testare = 92.2800%\n",
      "\n",
      "Epoca: 18/30: loss = 15421.9725510\n",
      "Epoca: 18/30: acuratete pe setul de testare = 92.6200%\n",
      "\n",
      "Epoca: 19/30: loss = 15356.4445274\n",
      "Epoca: 19/30: acuratete pe setul de testare = 92.3400%\n",
      "\n",
      "Epoca: 20/30: loss = 15359.7697384\n",
      "Epoca: 20/30: acuratete pe setul de testare = 92.2600%\n",
      "\n",
      "Epoca: 21/30: loss = 15311.3197287\n",
      "Epoca: 21/30: acuratete pe setul de testare = 92.4700%\n",
      "\n",
      "Epoca: 22/30: loss = 15255.3345422\n",
      "Epoca: 22/30: acuratete pe setul de testare = 92.2800%\n",
      "\n",
      "Epoca: 23/30: loss = 15193.6799672\n",
      "Epoca: 23/30: acuratete pe setul de testare = 92.4800%\n",
      "\n",
      "Epoca: 24/30: loss = 15177.8811756\n",
      "Epoca: 24/30: acuratete pe setul de testare = 92.4100%\n",
      "\n",
      "Epoca: 25/30: loss = 15140.9192267\n",
      "Epoca: 25/30: acuratete pe setul de testare = 92.4800%\n",
      "\n",
      "Epoca: 26/30: loss = 15094.6779765\n",
      "Epoca: 26/30: acuratete pe setul de testare = 92.3100%\n",
      "\n",
      "Epoca: 27/30: loss = 15082.7628677\n",
      "Epoca: 27/30: acuratete pe setul de testare = 92.4900%\n",
      "\n",
      "Epoca: 28/30: loss = 15026.9525665\n",
      "Epoca: 28/30: acuratete pe setul de testare = 92.3300%\n",
      "\n",
      "Epoca: 29/30: loss = 15021.9752792\n",
      "Epoca: 29/30: acuratete pe setul de testare = 92.7600%\n",
      "\n",
      "Epoca: 30/30: loss = 14992.9777855\n",
      "Epoca: 30/30: acuratete pe setul de testare = 92.5500%\n",
      "\n"
     ]
    }
   ],
   "source": [
    "train_losses : List[float] = []\n",
    "accuracies : List[float] = []\n",
    "\n",
    "acc_test, loss_test = evaluate(model, test_loader, device, loss_fn)\n",
    "accuracies.append(acc_test)\n",
    "print(f'Epoca: 0/{epochs}: acuratete pe setul de testare = {acc_test:.4f}%\\n')\n",
    "\n",
    "model.train()\n",
    "for epoch in range(epochs):\n",
    "    epoch_loss : float = 0\n",
    "    total_items : int = 0\n",
    "\n",
    "    for x, y in train_loader:\n",
    "        # extract input and expected output from current minibatch;\n",
    "        # swithed y type from Float to Long in order to apply CrossEntropyLoss fn\n",
    "        #x, y = ..., ...\n",
    "\n",
    "        # reset gradients to 0\n",
    "        optimizer.zero_grad()\n",
    "        y_hat = model(x)\n",
    "        # calculate loss function for current minibatch\n",
    "        loss : float = loss_fn(y_hat, y)\n",
    "        loss.backward()\n",
    "        optimizer.step()\n",
    "        # the loss will be the mean of the loss values over the curent minibatch\n",
    "        # => loss * len(minibatch) for calculating the cumulated value of loss/minibatch\n",
    "        epoch_loss += loss.item() * y.size(0)\n",
    "        total_items += y.size(0)\n",
    "\n",
    "        # calculate gradients\n",
    "        #...\n",
    "        \n",
    "        # apply gradients\n",
    "        #...\n",
    "    \n",
    "    train_losses.append(epoch_loss / total_items)\n",
    "    print(f'Epoca: {epoch+1}/{epochs}: loss = {epoch_loss:.7f}')\n",
    "    acc_test, loss_test = evaluate(model, test_loader, device, loss_fn)\n",
    "    accuracies.append(acc_test)\n",
    "    print(f'Epoca: {epoch + 1}/{epochs}: acuratete pe setul de testare = {acc_test:.4f}%\\n')"
   ]
  },
  {
   "cell_type": "markdown",
   "id": "5373d5d7",
   "metadata": {},
   "source": [
    "Creati graficele pentru valorile functiei de cost si acuratetea pe parcursul antrenarii:"
   ]
  },
  {
   "cell_type": "code",
   "execution_count": 49,
   "id": "cccd7b0b",
   "metadata": {},
   "outputs": [
    {
     "data": {
      "image/png": "[encoded data removed]",
      "text/plain": [
       "<Figure size 640x480 with 1 Axes>"
      ]
     },
     "metadata": {},
     "output_type": "display_data"
    }
   ],
   "source": [
    "# Plotam pierderile pentru antrenament si testare\n",
    "plt.plot(train_losses, label=\"Train loss\")\n",
    "plt.plot(accuracies, label=\"Accuracy\")\n",
    "plt.xlabel(\"Epoch\")  # Eticheta pentru axa x\n",
    "plt.legend()  # Afiseaza legenda pentru liniile graficului\n",
    "\n",
    "plt.show()"
   ]
  },
  {
   "attachments": {},
   "cell_type": "markdown",
   "id": "7e2429ff",
   "metadata": {},
   "source": [
    "## Confusion Matrix"
   ]
  },
  {
   "cell_type": "code",
   "execution_count": 50,
   "id": "ed4da822",
   "metadata": {},
   "outputs": [],
   "source": [
    "prediction_classes = ... # clasele prezise"
   ]
  },
  {
   "cell_type": "code",
   "execution_count": 51,
   "id": "e2f95c29",
   "metadata": {},
   "outputs": [
    {
     "ename": "ModuleNotFoundError",
     "evalue": "No module named 'sklearn'",
     "output_type": "error",
     "traceback": [
      "\u001b[0;31m---------------------------------------------------------------------------\u001b[0m",
      "\u001b[0;31mModuleNotFoundError\u001b[0m                       Traceback (most recent call last)",
      "Cell \u001b[0;32mIn[51], line 1\u001b[0m\n\u001b[0;32m----> 1\u001b[0m \u001b[38;5;28;01mfrom\u001b[39;00m \u001b[38;5;21;01msklearn\u001b[39;00m\u001b[38;5;21;01m.\u001b[39;00m\u001b[38;5;21;01mmetrics\u001b[39;00m \u001b[38;5;28;01mimport\u001b[39;00m confusion_matrix, ConfusionMatrixDisplay\n\u001b[1;32m      3\u001b[0m \u001b[38;5;66;03m# ...\u001b[39;00m\n\u001b[1;32m      4\u001b[0m output \u001b[38;5;241m=\u001b[39m \u001b[38;5;241m.\u001b[39m\u001b[38;5;241m.\u001b[39m\u001b[38;5;241m.\u001b[39m\n",
      "\u001b[0;31mModuleNotFoundError\u001b[0m: No module named 'sklearn'"
     ]
    }
   ],
   "source": [
    "from sklearn.metrics import confusion_matrix, ConfusionMatrixDisplay\n",
    "\n",
    "# ...\n",
    "output = ...\n",
    "conf_matrix = confusion_matrix(output, prediction_classes)\n",
    "confDisplay = ConfusionMatrixDisplay(...)\n",
    "confDisplay.plot()"
   ]
  }
 ],
 "metadata": {
  "kernelspec": {
   "display_name": ".venv",
   "language": "python",
   "name": "python3"
  },
  "language_info": {
   "codemirror_mode": {
    "name": "ipython",
    "version": 3
   },
   "file_extension": ".py",
   "mimetype": "text/x-python",
   "name": "python",
   "nbconvert_exporter": "python",
   "pygments_lexer": "ipython3",
   "version": "3.12.4"
  },
  "toc": {
   "base_numbering": 1,
   "nav_menu": {},
   "number_sections": true,
   "sideBar": true,
   "skip_h1_title": false,
   "title_cell": "Table of Contents",
   "title_sidebar": "Contents",
   "toc_cell": false,
   "toc_position": {
    "height": "calc(100% - 180px)",
    "left": "10px",
    "top": "150px",
    "width": "167.7px"
   },
   "toc_section_display": true,
   "toc_window_display": false
  },
  "varInspector": {
   "cols": {
    "lenName": 16,
    "lenType": 16,
    "lenVar": 40
   },
   "kernels_config": {
    "python": {
     "delete_cmd_postfix": "",
     "delete_cmd_prefix": "del ",
     "library": "var_list.py",
     "varRefreshCmd": "print(var_dic_list())"
    },
    "r": {
     "delete_cmd_postfix": ") ",
     "delete_cmd_prefix": "rm(",
     "library": "var_list.r",
     "varRefreshCmd": "cat(var_dic_list()) "
    }
   },
   "types_to_exclude": [
    "module",
    "function",
    "builtin_function_or_method",
    "instance",
    "_Feature"
   ],
   "window_display": false
  }
 },
 "nbformat": 4,
 "nbformat_minor": 5
}
